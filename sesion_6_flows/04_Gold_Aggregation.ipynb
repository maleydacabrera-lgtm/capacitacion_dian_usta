{
 "cells": [
  {
   "cell_type": "code",
   "execution_count": 0,
   "metadata": {
    "application/vnd.databricks.v1+cell": {
     "cellMetadata": {
      "byteLimit": 2048000,
      "implicitDf": true,
      "rowLimit": 10000
     },
     "inputWidgets": {},
     "nuid": "91a1f75f-c922-4440-b11e-37ed50f21888",
     "showTitle": false,
     "tableResultSettingsMap": {
      "0": {
       "dataGridStateBlob": "{\"version\":1,\"tableState\":{\"columnPinning\":{\"left\":[\"#row_number#\"],\"right\":[]},\"columnSizing\":{},\"columnVisibility\":{}},\"settings\":{\"columns\":{}},\"syncTimestamp\":1756396535725}",
       "filterBlob": null,
       "queryPlanFiltersBlob": null,
       "tableResultIndex": 0
      }
     },
     "title": ""
    }
   },
   "outputs": [],
   "source": [
    "%sql\n",
    "-- Creamos nuestra primera tabla en la capa Gold\n",
    "CREATE OR REPLACE TABLE sesion_5.gold.ventas_por_estado_categoria\n",
    "USING DELTA\n",
    "COMMENT 'Tabla agregada con el total de ventas por estado del cliente y categoría del producto.'\n",
    "AS\n",
    "SELECT\n",
    "  dc.customer_state,\n",
    "  dp.product_category,\n",
    "  COUNT(fp.order_id) AS total_pedidos,\n",
    "  SUM(fp.valor_pago) AS valor_total_pagado,\n",
    "  AVG(fp.valor_pago) AS promedio_pago_por_pedido\n",
    "FROM sesion_5.silver.fact_pedidos AS fp\n",
    "JOIN sesion_5.silver.dim_clientes_sql AS dc ON fp.customer_id = dc.customer_id\n",
    "JOIN sesion_5.silver.dim_productos AS dp ON fp.product_id = dp.product_id\n",
    "GROUP BY\n",
    "  dc.customer_state,\n",
    "  dp.product_category;\n"
   ]
  },
  {
   "cell_type": "code",
   "execution_count": 0,
   "metadata": {
    "application/vnd.databricks.v1+cell": {
     "cellMetadata": {},
     "inputWidgets": {},
     "nuid": "f5000afd-ed1a-4514-b8d3-4c68dbcb8171",
     "showTitle": false,
     "tableResultSettingsMap": {},
     "title": ""
    }
   },
   "outputs": [],
   "source": []
  }
 ],
 "metadata": {
  "application/vnd.databricks.v1+notebook": {
   "computePreferences": {
    "hardware": {
     "accelerator": null,
     "gpuPoolId": null,
     "memory": null
    }
   },
   "dashboards": [],
   "environmentMetadata": {
    "base_environment": "",
    "environment_version": "3"
   },
   "inputWidgetPreferences": null,
   "language": "python",
   "notebookMetadata": {
    "mostRecentlyExecutedCommandWithImplicitDF": {
     "commandId": 6496990378793062,
     "dataframes": [
      "_sqldf"
     ]
    },
    "pythonIndentUnit": 4
   },
   "notebookName": "04_Gold_Aggregation",
   "widgets": {}
  },
  "language_info": {
   "name": "python"
  }
 },
 "nbformat": 4,
 "nbformat_minor": 0
}
