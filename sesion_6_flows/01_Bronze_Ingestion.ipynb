{
 "cells": [
  {
   "cell_type": "code",
   "execution_count": 0,
   "metadata": {
    "application/vnd.databricks.v1+cell": {
     "cellMetadata": {
      "byteLimit": 2048000,
      "rowLimit": 10000
     },
     "inputWidgets": {},
     "nuid": "4f39c145-2246-418e-85d6-9041ecd516b5",
     "showTitle": false,
     "tableResultSettingsMap": {},
     "title": ""
    }
   },
   "outputs": [],
   "source": [
    "# 1. Definir la configuración usando nuestra nueva estructura de catálogo\n",
    "catalog_name = \"sesion_5\"\n",
    "bronze_schema = \"bronze\"\n",
    "\n",
    "# 2. Definir la ruta al volumen de la capa Bronze\n",
    "bronze_volume_path = f\"/Volumes/{catalog_name}/{bronze_schema}/raw_files\"\n",
    "\n"
   ]
  },
  {
   "cell_type": "code",
   "execution_count": 0,
   "metadata": {
    "application/vnd.databricks.v1+cell": {
     "cellMetadata": {
      "byteLimit": 2048000,
      "rowLimit": 10000
     },
     "inputWidgets": {},
     "nuid": "4f8385ca-95d4-4554-9cd7-e22aa74cf754",
     "showTitle": false,
     "tableResultSettingsMap": {},
     "title": ""
    }
   },
   "outputs": [],
   "source": [
    "def ingest_csv_to_bronze(file_name, table_name): \n",
    "    \"\"\" \n",
    "    Lee un archivo CSV desde el volumen de Bronce y lo guarda como una tabla Delta. \n",
    "    Se usa inferSchema=true para este ejercicio, pero en producción es mejor definir el esquema \n",
    "    explícitamente. \n",
    "    \"\"\" \n",
    "    df = spark.read.option(\"header\", \"true\").option(\"inferSchema\", \n",
    "    \"true\").csv(f\"{bronze_volume_path}/{file_name}\") \n",
    "    df.write.format(\"delta\").mode(\"overwrite\").saveAsTable(f\"{catalog_name}.{bronze_schema}.{table_name}\")\n",
    "    print(f\"Tabla '{table_name}' creada/actualizada en la capa Bronce.\")"
   ]
  },
  {
   "cell_type": "code",
   "execution_count": 0,
   "metadata": {
    "application/vnd.databricks.v1+cell": {
     "cellMetadata": {
      "byteLimit": 2048000,
      "rowLimit": 10000
     },
     "inputWidgets": {},
     "nuid": "798b6790-082e-41a6-ab6b-76ff99d781a6",
     "showTitle": false,
     "tableResultSettingsMap": {},
     "title": ""
    }
   },
   "outputs": [],
   "source": [
    "ingest_csv_to_bronze(\"olist_customers_dataset.csv\", \"customers_bronze\") \n",
    "ingest_csv_to_bronze(\"olist_order_items_dataset.csv\", \"order_items_bronze\") \n",
    "ingest_csv_to_bronze(\"olist_order_payments_dataset.csv\", \"order_payments_bronze\") \n",
    "ingest_csv_to_bronze(\"olist_orders_dataset.csv\", \"orders_bronze\") \n",
    "ingest_csv_to_bronze(\"olist_products_dataset.csv\", \"products_bronze\")"
   ]
  }
 ],
 "metadata": {
  "application/vnd.databricks.v1+notebook": {
   "computePreferences": null,
   "dashboards": [],
   "environmentMetadata": {
    "base_environment": "",
    "environment_version": "3"
   },
   "inputWidgetPreferences": null,
   "language": "python",
   "notebookMetadata": {
    "pythonIndentUnit": 4
   },
   "notebookName": "01_Bronze_Ingestion",
   "widgets": {}
  },
  "language_info": {
   "name": "python"
  }
 },
 "nbformat": 4,
 "nbformat_minor": 0
}
