{
 "cells": [
  {
   "cell_type": "code",
   "execution_count": 0,
   "metadata": {
    "application/vnd.databricks.v1+cell": {
     "cellMetadata": {
      "byteLimit": 2048000,
      "rowLimit": 10000
     },
     "inputWidgets": {},
     "nuid": "1da85200-f8f9-45d4-92ed-59cbe7f110ae",
     "showTitle": false,
     "tableResultSettingsMap": {},
     "title": ""
    }
   },
   "outputs": [],
   "source": [
    "# 1. Definir la configuración usando nuestra nueva estructura de catálogo\n",
    "catalog_name = \"sesion_5\"\n",
    "bronze_schema = \"bronze\"\n",
    "silver_schema = \"silver\"\n",
    "\n",
    "# 2. Definir la ruta al volumen de la capa Bronze\n",
    "bronze_volume_path = f\"/Volumes/{catalog_name}/{bronze_schema}/raw_files\"\n",
    "\n",
    "# 3. Cargar todos los datasets desde el volumen Bronze en DataFrames\n",
    "print(f\"Leyendo archivos desde: {bronze_volume_path}...\")\n",
    "options = {\"header\": \"true\", \"inferSchema\": \"true\"}\n",
    "\n",
    "customers_df = spark.read.options(**options).csv(f\"{bronze_volume_path}/olist_customers_dataset.csv\")\n",
    "order_items_df = spark.read.options(**options).csv(f\"{bronze_volume_path}/olist_order_items_dataset.csv\")\n",
    "order_payments_df = spark.read.options(**options).csv(f\"{bronze_volume_path}/olist_order_payments_dataset.csv\")\n",
    "orders_df = spark.read.options(**options).csv(f\"{bronze_volume_path}/olist_orders_dataset.csv\")\n",
    "products_df = spark.read.options(**options).csv(f\"{bronze_volume_path}/olist_products_dataset.csv\")\n",
    "sellers_df = spark.read.options(**options).csv(f\"{bronze_volume_path}/olist_sellers_dataset.csv\")\n",
    "category_translation_df = spark.read.options(**options).csv(f\"{bronze_volume_path}/product_category_name_translation.csv\")\n",
    "\n",
    "print(\"\\n¡Carga completada! Los DataFrames de la capa Bronze están en memoria.\")"
   ]
  },
  {
   "cell_type": "code",
   "execution_count": 0,
   "metadata": {
    "application/vnd.databricks.v1+cell": {
     "cellMetadata": {
      "byteLimit": 2048000,
      "implicitDf": true,
      "rowLimit": 10000
     },
     "inputWidgets": {},
     "nuid": "1a361b8b-11c4-4201-9660-346904e269a1",
     "showTitle": false,
     "tableResultSettingsMap": {},
     "title": ""
    }
   },
   "outputs": [],
   "source": [
    "# Paso 1: Registrar el DataFrame como una vista temporal para poder usar SQL sobre él.\n",
    "customers_df.createOrReplaceTempView(\"customers_bronze_vw\")\n",
    "\n",
    "print(\"Vista temporal 'customers_bronze_vw' creada.\")"
   ]
  },
  {
   "cell_type": "code",
   "execution_count": 0,
   "metadata": {
    "application/vnd.databricks.v1+cell": {
     "cellMetadata": {
      "byteLimit": 2048000,
      "implicitDf": true,
      "rowLimit": 10000
     },
     "inputWidgets": {},
     "nuid": "cb4d1b27-eec4-4b92-9fc7-e8547e043157",
     "showTitle": false,
     "tableResultSettingsMap": {},
     "title": ""
    }
   },
   "outputs": [],
   "source": [
    "\n",
    "%sql\n",
    "-- Paso 2: Crear la tabla con el esquema explícito y luego insertar los datos.\n",
    "-- Este enfoque de dos pasos nos da control total sobre la estructura de la tabla.\n",
    "\n",
    "-- Primero, creamos la tabla con la columna de la llave primaria definida como NOT NULL.\n",
    "CREATE OR REPLACE TABLE sesion_5.silver.dim_clientes_sql (\n",
    "  customer_id STRING NOT NULL,\n",
    "  customer_unique_id STRING,\n",
    "  customer_zip_code_prefix STRING,\n",
    "  customer_city STRING,\n",
    "  customer_state STRING\n",
    ")\n",
    "USING DELTA\n",
    "COMMENT 'Dimensión de Clientes, creada con SQL y con esquema definido.';\n",
    "\n",
    "-- Segundo, insertamos los datos en la tabla ya creada.\n",
    "INSERT INTO sesion_5.silver.dim_clientes_sql\n",
    "SELECT DISTINCT\n",
    "  customer_id,\n",
    "  customer_unique_id,\n",
    "  customer_zip_code_prefix,\n",
    "  customer_city,\n",
    "  customer_state\n",
    "FROM customers_bronze_vw;\n"
   ]
  },
  {
   "cell_type": "code",
   "execution_count": 0,
   "metadata": {
    "application/vnd.databricks.v1+cell": {
     "cellMetadata": {
      "byteLimit": 2048000,
      "rowLimit": 10000
     },
     "inputWidgets": {},
     "nuid": "0ab073b3-78ae-478c-8b09-bf3c9af149a9",
     "showTitle": false,
     "tableResultSettingsMap": {},
     "title": ""
    }
   },
   "outputs": [],
   "source": [
    "# 1. Registrar los DataFrames necesarios como vistas temporales\n",
    "products_df.createOrReplaceTempView(\"products_bronze_vw\")\n",
    "category_translation_df.createOrReplaceTempView(\"category_translation_bronze_vw\")\n",
    "\n",
    "print(\"Vistas temporales 'products_bronze_vw' y 'category_translation_bronze_vw' creadas.\")"
   ]
  },
  {
   "cell_type": "code",
   "execution_count": 0,
   "metadata": {
    "application/vnd.databricks.v1+cell": {
     "cellMetadata": {
      "byteLimit": 2048000,
      "implicitDf": true,
      "rowLimit": 10000
     },
     "inputWidgets": {},
     "nuid": "f06aa84d-8bf7-42c7-9714-9366a7041b2b",
     "showTitle": false,
     "tableResultSettingsMap": {},
     "title": ""
    }
   },
   "outputs": [],
   "source": [
    "%sql\n",
    "-- Crear la tabla de dimensión de productos\n",
    "-- **CORRECCIÓN**: Añadimos la definición de la columna PK como NOT NULL\n",
    "CREATE OR REPLACE TABLE sesion_5.silver.dim_productos (\n",
    "  product_id STRING NOT NULL,\n",
    "  product_category STRING,\n",
    "  product_photos_qty INT,\n",
    "  product_weight_g DOUBLE,\n",
    "  product_length_cm DOUBLE,\n",
    "  product_height_cm DOUBLE,\n",
    "  product_width_cm DOUBLE\n",
    ")\n",
    "USING DELTA\n",
    "COMMENT 'Dimensión de Productos, enriquecida.';\n",
    "\n",
    "-- Insertamos los datos desde nuestra vista temporal\n",
    "INSERT INTO sesion_5.silver.dim_productos\n",
    "SELECT DISTINCT\n",
    "  p.product_id,\n",
    "  t.product_category_name_english AS product_category,\n",
    "  p.product_photos_qty,\n",
    "  p.product_weight_g,\n",
    "  p.product_length_cm,\n",
    "  p.product_height_cm,\n",
    "  p.product_width_cm\n",
    "FROM products_bronze_vw p\n",
    "LEFT JOIN category_translation_bronze_vw t ON p.product_category_name = t.product_category_name;"
   ]
  },
  {
   "cell_type": "code",
   "execution_count": 0,
   "metadata": {
    "application/vnd.databricks.v1+cell": {
     "cellMetadata": {
      "byteLimit": 2048000,
      "rowLimit": 10000
     },
     "inputWidgets": {},
     "nuid": "1c0151f5-334a-41c0-910a-68fb6e4b9591",
     "showTitle": false,
     "tableResultSettingsMap": {},
     "title": ""
    }
   },
   "outputs": [],
   "source": [
    "# 1. Registrar el DataFrame de vendedores como una vista temporal\n",
    "sellers_df.createOrReplaceTempView(\"sellers_bronze_vw\")\n",
    "\n",
    "print(\"Vista temporal 'sellers_bronze_vw' creada.\")"
   ]
  },
  {
   "cell_type": "code",
   "execution_count": 0,
   "metadata": {
    "application/vnd.databricks.v1+cell": {
     "cellMetadata": {
      "byteLimit": 2048000,
      "implicitDf": true,
      "rowLimit": 10000
     },
     "inputWidgets": {},
     "nuid": "c7034c89-9968-4de4-a34d-90c8435f346f",
     "showTitle": false,
     "tableResultSettingsMap": {},
     "title": ""
    }
   },
   "outputs": [],
   "source": [
    "%sql\n",
    "-- Crear la tabla de dimensión de vendedores\n",
    "-- **CORRECCIÓN**: Añadimos la definición de la columna PK como NOT NULL\n",
    "CREATE OR REPLACE TABLE sesion_5.silver.dim_vendedores (\n",
    "  seller_id STRING NOT NULL,\n",
    "  seller_zip_code_prefix STRING,\n",
    "  seller_city STRING,\n",
    "  seller_state STRING\n",
    ")\n",
    "USING DELTA\n",
    "COMMENT 'Dimensión de Vendedores, depurada y modelada.';\n",
    "\n",
    "-- Insertamos los datos\n",
    "INSERT INTO sesion_5.silver.dim_vendedores\n",
    "SELECT DISTINCT\n",
    "  seller_id,\n",
    "  seller_zip_code_prefix,\n",
    "  seller_city,\n",
    "  seller_state\n",
    "FROM sellers_bronze_vw;\n",
    "\n",
    "-- Verificamos\n",
    "SELECT * FROM sesion_5.silver.dim_vendedores LIMIT 5;"
   ]
  },
  {
   "cell_type": "code",
   "execution_count": 0,
   "metadata": {
    "application/vnd.databricks.v1+cell": {
     "cellMetadata": {
      "byteLimit": 2048000,
      "rowLimit": 10000
     },
     "inputWidgets": {},
     "nuid": "70ec6af9-efea-4730-8081-a285cef899b9",
     "showTitle": false,
     "tableResultSettingsMap": {},
     "title": ""
    }
   },
   "outputs": [],
   "source": [
    "# 1. Registrar todos los DataFrames relacionados con los pedidos como vistas temporales\n",
    "orders_df.createOrReplaceTempView(\"orders_bronze_vw\")\n",
    "order_items_df.createOrReplaceTempView(\"order_items_bronze_vw\")\n",
    "order_payments_df.createOrReplaceTempView(\"order_payments_bronze_vw\")\n",
    "\n",
    "print(\"Vistas temporales para pedidos, items y pagos creadas.\")"
   ]
  },
  {
   "cell_type": "code",
   "execution_count": 0,
   "metadata": {
    "application/vnd.databricks.v1+cell": {
     "cellMetadata": {
      "byteLimit": 2048000,
      "implicitDf": true,
      "rowLimit": 10000
     },
     "inputWidgets": {},
     "nuid": "4da76e88-2b77-44b4-9fb0-3a8f1e9a7d72",
     "showTitle": false,
     "tableResultSettingsMap": {},
     "title": ""
    }
   },
   "outputs": [],
   "source": [
    "%sql\n",
    "-- Crear la tabla de hechos\n",
    "-- **CORRECCIÓN**: Definimos las columnas que serán FK como NOT NULL\n",
    "CREATE OR REPLACE TABLE sesion_5.silver.fact_pedidos (\n",
    "  order_id STRING,\n",
    "  customer_id STRING NOT NULL,\n",
    "  product_id STRING NOT NULL,\n",
    "  seller_id STRING NOT NULL,\n",
    "  fecha_pedido DATE,\n",
    "  order_status STRING,\n",
    "  price DOUBLE,\n",
    "  costo_envio DOUBLE,\n",
    "  secuencia_pago INT,\n",
    "  tipo_pago STRING,\n",
    "  cuotas_pago INT,\n",
    "  valor_pago DOUBLE\n",
    ")\n",
    "USING DELTA\n",
    "COMMENT 'Tabla de hechos con las métricas de los pedidos.';\n",
    "\n",
    "-- Insertamos los datos\n",
    "INSERT INTO sesion_5.silver.fact_pedidos\n",
    "SELECT\n",
    "  o.order_id,\n",
    "  o.customer_id,\n",
    "  i.product_id,\n",
    "  i.seller_id,\n",
    "  TO_DATE(o.order_purchase_timestamp) AS fecha_pedido,\n",
    "  o.order_status,\n",
    "  i.price,\n",
    "  i.freight_value AS costo_envio,\n",
    "  p.payment_sequential AS secuencia_pago,\n",
    "  p.payment_type AS tipo_pago,\n",
    "  p.payment_installments AS cuotas_pago,\n",
    "  p.payment_value AS valor_pago\n",
    "FROM orders_bronze_vw o\n",
    "JOIN order_items_bronze_vw i ON o.order_id = i.order_id\n",
    "JOIN order_payments_bronze_vw p ON o.order_id = p.order_id;\n"
   ]
  },
  {
   "cell_type": "code",
   "execution_count": 0,
   "metadata": {
    "application/vnd.databricks.v1+cell": {
     "cellMetadata": {
      "byteLimit": 2048000,
      "implicitDf": true,
      "rowLimit": 10000
     },
     "inputWidgets": {},
     "nuid": "03bda36b-1a79-4cb3-b315-bc2517833125",
     "showTitle": false,
     "tableResultSettingsMap": {},
     "title": ""
    }
   },
   "outputs": [],
   "source": [
    "%sql\n",
    "-- Definiendo las Llaves Primarias para cada tabla de dimensión\n",
    "-- (Usamos la tabla creada con SQL como principal para el resto del taller)\n",
    "ALTER TABLE sesion_5.silver.dim_clientes_sql ADD CONSTRAINT pk_dim_clientes PRIMARY KEY(customer_id) NOT ENFORCED;\n",
    "ALTER TABLE sesion_5.silver.dim_productos ADD CONSTRAINT pk_dim_productos PRIMARY KEY(product_id) NOT ENFORCED;\n",
    "ALTER TABLE sesion_5.silver.dim_vendedores ADD CONSTRAINT pk_dim_vendedores PRIMARY KEY(seller_id) NOT ENFORCED;\n",
    "\n",
    "-- Definiendo las Llaves Foráneas en la tabla de hechos\n",
    "ALTER TABLE sesion_5.silver.fact_pedidos ADD CONSTRAINT fk_pedidos_clientes FOREIGN KEY(customer_id) REFERENCES sesion_5.silver.dim_clientes_sql(customer_id) NOT ENFORCED;\n",
    "ALTER TABLE sesion_5.silver.fact_pedidos ADD CONSTRAINT fk_pedidos_productos FOREIGN KEY(product_id) REFERENCES sesion_5.silver.dim_productos(product_id) NOT ENFORCED;\n",
    "ALTER TABLE sesion_5.silver.fact_pedidos ADD CONSTRAINT fk_pedidos_vendedores FOREIGN KEY(seller_id) REFERENCES sesion_5.silver.dim_vendedores(seller_id) NOT ENFORCED;"
   ]
  }
 ],
 "metadata": {
  "application/vnd.databricks.v1+notebook": {
   "computePreferences": null,
   "dashboards": [],
   "environmentMetadata": {
    "base_environment": "",
    "environment_version": "3"
   },
   "inputWidgetPreferences": null,
   "language": "python",
   "notebookMetadata": {
    "mostRecentlyExecutedCommandWithImplicitDF": {
     "commandId": 6496990378793061,
     "dataframes": [
      "_sqldf"
     ]
    },
    "pythonIndentUnit": 4
   },
   "notebookName": "03_Silver_Transformation",
   "widgets": {}
  },
  "language_info": {
   "name": "python"
  }
 },
 "nbformat": 4,
 "nbformat_minor": 0
}
