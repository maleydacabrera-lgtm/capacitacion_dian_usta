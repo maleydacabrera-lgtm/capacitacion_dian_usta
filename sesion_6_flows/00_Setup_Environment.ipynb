{
 "cells": [
  {
   "cell_type": "code",
   "execution_count": 0,
   "metadata": {
    "application/vnd.databricks.v1+cell": {
     "cellMetadata": {},
     "inputWidgets": {},
     "nuid": "b8130022-1be1-4835-bf23-172f2d827bec",
     "showTitle": false,
     "tableResultSettingsMap": {},
     "title": ""
    }
   },
   "outputs": [],
   "source": [
    "%sql\n",
    "-- 1. Creamos nuestro propio catálogo para el proyecto\n",
    "CREATE CATALOG IF NOT EXISTS sesion_5;\n",
    "\n",
    "-- 2. Creamos los esquemas para cada capa dentro de nuestro nuevo catálogo\n",
    "CREATE SCHEMA IF NOT EXISTS sesion_5.bronze COMMENT 'Esquema para datos crudos e inmutables';\n",
    "CREATE SCHEMA IF NOT EXISTS sesion_5.silver COMMENT 'Esquema para datos validados, limpiados y modelados';\n",
    "CREATE SCHEMA IF NOT EXISTS sesion_5.gold COMMENT 'Esquema para datos agregados y listos para el negocio';\n",
    "\n",
    "-- 3. Creamos los volúmenes para el almacenamiento físico de los datos\n",
    "CREATE VOLUME IF NOT EXISTS sesion_5.bronze.raw_files;\n",
    "CREATE VOLUME IF NOT EXISTS sesion_5.silver.tables;\n",
    "CREATE VOLUME IF NOT EXISTS sesion_5.gold.tables;"
   ]
  }
 ],
 "metadata": {
  "application/vnd.databricks.v1+notebook": {
   "computePreferences": null,
   "dashboards": [],
   "environmentMetadata": {
    "base_environment": "",
    "environment_version": "3"
   },
   "inputWidgetPreferences": null,
   "language": "python",
   "notebookMetadata": {
    "pythonIndentUnit": 4
   },
   "notebookName": "00_Setup_Environment",
   "widgets": {}
  },
  "language_info": {
   "name": "python"
  }
 },
 "nbformat": 4,
 "nbformat_minor": 0
}
